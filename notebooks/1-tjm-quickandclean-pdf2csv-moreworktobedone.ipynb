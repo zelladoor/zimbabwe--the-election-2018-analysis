{
 "cells": [
  {
   "cell_type": "code",
   "execution_count": 15,
   "metadata": {
    "collapsed": true
   },
   "outputs": [],
   "source": [
    "from __future__ import print_function, division\n",
    "import pandas as pd\n",
    "import tabula\n",
    "import os\n",
    "\n",
    "from tabula import wrapper"
   ]
  },
  {
   "cell_type": "markdown",
   "metadata": {},
   "source": [
    "## View the raw data"
   ]
  },
  {
   "cell_type": "code",
   "execution_count": 4,
   "metadata": {
    "scrolled": false
   },
   "outputs": [
    {
     "name": "stdout",
     "output_type": "stream",
     "text": [
      "Harare Metropolitan Province July 2018 Harmonised Presidential Election Results.xlsx\r\n",
      "Manicaland Province Province July 2018 Harmonised Presidential Election Results.xlsx\r\n",
      "Mashonaland East Province July 2018 Harmonised Presidential Election Results.xlsx\r\n",
      "Mashonaland West  Province July 2018 Harmonised Presidential Election Results (1).xlsx\r\n",
      "Mashonaland West  Province July 2018 Harmonised Presidential Election Results.xlsx\r\n",
      "Matabeleland North Province July 2018 Harmonised Presidential Election Results (1).xlsx\r\n",
      "Matabeleland South Province July 2018 Harmonised Presidential Election Results (1).xlsx\r\n",
      "Midlands Province July 2018 Harmonised Presidential Election Results.xlsx\r\n",
      "NATIONAL ASSEMBLY BULAWAYO PROVINCE.pdf\r\n",
      "NATIONAL ASSEMBLY HARARE PROVINCE.pdf\r\n",
      "NATIONAL ASSEMBLY HARARE RESULTS.pdf\r\n",
      "NATIONAL ASSEMBLY KWEKWE CENTRAL RESULTS.pdf\r\n",
      "NATIONAL ASSEMBLY MANICALAND PROVINCE.pdf\r\n",
      "NATIONAL ASSEMBLY MASHONALAND CENTRAL PROVINCE.pdf\r\n",
      "NATIONAL ASSEMBLY MASHONALAND WEST PROVINCE.pdf\r\n",
      "NATIONAL ASSEMBLY MASVINGO PROVINCE.pdf\r\n",
      "NATIONAL ASSEMBLY MATABELELAND NORTH PROVINCE (1).pdf\r\n",
      "NATIONAL ASSEMBLY MATABELELAND NORTH PROVINCE.pdf\r\n",
      "NATIONAL ASSEMBLY MATABELELAND SOUTH PROVINCE.pdf\r\n",
      "NATIONAL ASSEMBLY  MIDLANDS PROVINCE.pdf\r\n"
     ]
    }
   ],
   "source": [
    "! cd ../data/raw && ls -h"
   ]
  },
  {
   "cell_type": "markdown",
   "metadata": {},
   "source": [
    "## Add the titles to a list fr later use"
   ]
  },
  {
   "cell_type": "code",
   "execution_count": 10,
   "metadata": {},
   "outputs": [],
   "source": [
    "directory_in_str = '../data/raw/'\n",
    "directory = os.fsencode(directory_in_str)\n",
    "pdfiles = []\n",
    "\n",
    "for file in os.listdir(directory):\n",
    "    filename = os.fsdecode(file)\n",
    "    if filename.endswith(\".pdf\"): \n",
    "        pdfiles.append(filename)\n",
    "    else:\n",
    "        continue"
   ]
  },
  {
   "cell_type": "code",
   "execution_count": 11,
   "metadata": {},
   "outputs": [
    {
     "name": "stdout",
     "output_type": "stream",
     "text": [
      "['NATIONAL ASSEMBLY KWEKWE CENTRAL RESULTS.pdf', 'NATIONAL ASSEMBLY MATABELELAND SOUTH PROVINCE.pdf', 'NATIONAL ASSEMBLY MASHONALAND WEST PROVINCE.pdf', 'NATIONAL ASSEMBLY MANICALAND PROVINCE.pdf', 'NATIONAL ASSEMBLY BULAWAYO PROVINCE.pdf', 'NATIONAL ASSEMBLY MATABELELAND NORTH PROVINCE.pdf', 'NATIONAL ASSEMBLY HARARE RESULTS.pdf', 'NATIONAL ASSEMBLY HARARE PROVINCE.pdf', 'NATIONAL ASSEMBLY MASVINGO PROVINCE.pdf', 'NATIONAL ASSEMBLY  MIDLANDS PROVINCE.pdf', 'NATIONAL ASSEMBLY MASHONALAND CENTRAL PROVINCE.pdf']\n"
     ]
    }
   ],
   "source": [
    "print(pdfiles)"
   ]
  },
  {
   "cell_type": "markdown",
   "metadata": {},
   "source": [
    "## For Each File Convert it to CSV and save it to /data/interim\n",
    "print p just to see how far we are"
   ]
  },
  {
   "cell_type": "code",
   "execution_count": 22,
   "metadata": {},
   "outputs": [
    {
     "name": "stdout",
     "output_type": "stream",
     "text": [
      "NATIONAL ASSEMBLY KWEKWE CENTRAL RESULTS.pdf\n",
      "NATIONAL ASSEMBLY MATABELELAND SOUTH PROVINCE.pdf\n",
      "NATIONAL ASSEMBLY MASHONALAND WEST PROVINCE.pdf\n",
      "NATIONAL ASSEMBLY MANICALAND PROVINCE.pdf\n",
      "NATIONAL ASSEMBLY BULAWAYO PROVINCE.pdf\n",
      "NATIONAL ASSEMBLY MATABELELAND NORTH PROVINCE.pdf\n",
      "NATIONAL ASSEMBLY HARARE RESULTS.pdf\n",
      "NATIONAL ASSEMBLY HARARE PROVINCE.pdf\n",
      "NATIONAL ASSEMBLY MASVINGO PROVINCE.pdf\n",
      "NATIONAL ASSEMBLY  MIDLANDS PROVINCE.pdf\n",
      "NATIONAL ASSEMBLY MASHONALAND CENTRAL PROVINCE.pdf\n"
     ]
    }
   ],
   "source": [
    "for p in pdfiles:\n",
    "    print(p)\n",
    "#     df = wrapper.read_pdf('../data/raw/' + str(p), skip = 0, removeempty= 'FALSE', pages='all')\n",
    "    bp = wrapper.convert_into('../data/raw/' + str(p), '../data/interim/' + str(p) + \".csv\", output_format=\"csv\", removeempty= 'FALSE', pages=\"all\")\n",
    "    "
   ]
  },
  {
   "cell_type": "markdown",
   "metadata": {},
   "source": [
    "## We now have CSVs of the files without the constituency information\n",
    "\n",
    "Instructions to complete dataset\n",
    "Extract the constituency name from each original pdf then for each empty line insert it\n",
    "OR add a new colomn named constituency and between each empty row insert the constituency name.\n",
    "\n",
    "This might get you started\n",
    "\n",
    "!pdftotext 'NATIONAL ASSEMBLY  MIDLANDS PROVINCE.pdf' - | grep 'Constituency' | sed -n 's/In respect of //p' | sed -n 's/the results are as follows://p' > const.txt "
   ]
  }
 ],
 "metadata": {
  "kernelspec": {
   "display_name": "Python 3",
   "language": "python",
   "name": "python3"
  },
  "language_info": {
   "codemirror_mode": {
    "name": "ipython",
    "version": 3
   },
   "file_extension": ".py",
   "mimetype": "text/x-python",
   "name": "python",
   "nbconvert_exporter": "python",
   "pygments_lexer": "ipython3",
   "version": "3.6.5"
  },
  "toc": {
   "base_numbering": 1,
   "nav_menu": {},
   "number_sections": true,
   "sideBar": true,
   "skip_h1_title": false,
   "title_cell": "Table of Contents",
   "title_sidebar": "Contents",
   "toc_cell": false,
   "toc_position": {},
   "toc_section_display": true,
   "toc_window_display": false
  }
 },
 "nbformat": 4,
 "nbformat_minor": 2
}
